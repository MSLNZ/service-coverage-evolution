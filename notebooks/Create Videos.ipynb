{
 "cells": [
  {
   "cell_type": "code",
   "execution_count": null,
   "id": "34996ff9",
   "metadata": {},
   "outputs": [],
   "source": [
    "# Function to generate video\n",
    "def generate_video(path, name, images_list,video_dir):\n",
    "    image_dir = path\n",
    "    video_name = name+'.avi'\n",
    "\n",
    "    images = [img for img in images_list]\n",
    "\n",
    "    # Set frame from the first image\n",
    "    frame = cv2.imread(os.path.join(image_dir, images[-1]))\n",
    "    height, width, layers = frame.shape\n",
    "\n",
    "    # Video writer to create .avi file\n",
    "    video = cv2.VideoWriter(video_dir+video_name, cv2.VideoWriter_fourcc(*'DIVX'), 1, (width, height))\n",
    "\n",
    "    # Appending images to video\n",
    "    for image in images:\n",
    "        video.write(cv2.imread(os.path.join(path, image)))\n",
    "\n",
    "    # Release the video file\n",
    "    video.release()\n",
    "    cv2.destroyAllWindows()"
   ]
  },
  {
   "cell_type": "code",
   "execution_count": null,
   "id": "f87fda88",
   "metadata": {},
   "outputs": [],
   "source": [
    "import os\n",
    "from pathlib import Path\n",
    "\n",
    "import cv2\n",
    "import matplotlib.pyplot as plt\n",
    "import numpy as np\n",
    "from PIL import Image\n",
    "\n",
    "path = str(Path().resolve().parent / \"output\")\n",
    "data_folder = \"/services-by-branch-all-countries/\"\n",
    "plots_folder = \"/box_plots/\"\n",
    "video_folder = \"/movies/\"\n",
    "\n",
    "# getting the 2024 data just to obtain a list of the countries\n",
    "data = np.genfromtxt(path+data_folder+\"2024.txt\", delimiter=\";\", names=True, dtype=None, encoding='latin-1')\n",
    "\n",
    "# loop over plot types, data sets for comparison, and countries. Each video will include a series of images\n",
    "# one for each year from the beginning of KCDB until now\n",
    "for plot_type in ['physics','EM','AUV','L','M','PR','T','TF']:\n",
    "    print(plot_type)\n",
    "    for dataset_name in ['All','Broad']:\n",
    "        print(dataset_name)\n",
    "        for country in (data[\"Country\"][1:]):\n",
    "            images = []\n",
    "            for year in range(2001,2025):\n",
    "                #create a list of the images to include in this video\n",
    "                images.append(plot_type+'/'+dataset_name+'/'+str(year)+'/'+country+'.png')\n",
    "            # add the last one twice so it gets at least one second on the screen\n",
    "            images.append(images[-1])\n",
    "            # identify where to save the video\n",
    "            videopath = path+video_folder+\"/\"+plot_type+\"/\" + dataset_name + \"/\"\n",
    "            if not os.path.exists(videopath):\n",
    "                    os.makedirs(videopath)\n",
    "            # generate the video sending the path to find the images, the name of the output video, the list of images to include\n",
    "            # and the path to where to save the video\n",
    "            generate_video(path+plots_folder,country,images,videopath)"
   ]
  },
  {
   "cell_type": "code",
   "execution_count": null,
   "id": "fb047c01-b90c-472f-853f-5ea49bd10381",
   "metadata": {},
   "outputs": [],
   "source": []
  }
 ],
 "metadata": {
  "kernelspec": {
   "display_name": "Python 3 (ipykernel)",
   "language": "python",
   "name": "python3"
  },
  "language_info": {
   "codemirror_mode": {
    "name": "ipython",
    "version": 3
   },
   "file_extension": ".py",
   "mimetype": "text/x-python",
   "name": "python",
   "nbconvert_exporter": "python",
   "pygments_lexer": "ipython3",
   "version": "3.13.7"
  }
 },
 "nbformat": 4,
 "nbformat_minor": 5
}
