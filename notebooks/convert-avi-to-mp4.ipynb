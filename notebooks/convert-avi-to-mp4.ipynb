{
 "cells": [
  {
   "cell_type": "markdown",
   "id": "d67f9fa9",
   "metadata": {},
   "source": [
    "Convert the AVI files to MP4.\n",
    "\n",
    "The [ffmpeg](https://ffmpeg.org/download.html) tool must be installed and the `ffmpeg.exe` executable available on your `PATH` environment variable."
   ]
  },
  {
   "cell_type": "code",
   "execution_count": null,
   "id": "ff94ea90",
   "metadata": {},
   "outputs": [],
   "source": [
    "from pathlib import Path\n",
    "from shutil import rmtree\n",
    "from subprocess import run\n",
    "\n",
    "root_dir = Path().resolve().parent\n",
    "videos_dir =  root_dir / \"videos\"\n",
    "rmtree(videos_dir, ignore_errors=True)\n",
    "\n",
    "for avi in (root_dir / \"output\" / \"movies\").rglob(\"*.avi\"):\n",
    "    parts = avi.parts[-3:]\n",
    "    mp4 = videos_dir.joinpath(*parts).with_suffix(\".mp4\")\n",
    "    mp4.parent.mkdir(parents=True, exist_ok=True)\n",
    "    print(f\"Converting {'/'.join(parts)}\")\n",
    "    result = run([\"ffmpeg\", \"-i\", avi, mp4], capture_output=True)\n",
    "    assert result.returncode == 0"
   ]
  },
  {
   "cell_type": "code",
   "execution_count": null,
   "id": "c0bc8d64-a55d-4375-bf71-e3cfefb91e98",
   "metadata": {},
   "outputs": [],
   "source": []
  }
 ],
 "metadata": {
  "kernelspec": {
   "display_name": "Python 3 (ipykernel)",
   "language": "python",
   "name": "python3"
  },
  "language_info": {
   "codemirror_mode": {
    "name": "ipython",
    "version": 3
   },
   "file_extension": ".py",
   "mimetype": "text/x-python",
   "name": "python",
   "nbconvert_exporter": "python",
   "pygments_lexer": "ipython3",
   "version": "3.13.7"
  }
 },
 "nbformat": 4,
 "nbformat_minor": 5
}
